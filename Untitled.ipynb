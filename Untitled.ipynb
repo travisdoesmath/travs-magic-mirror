{
 "cells": [
  {
   "cell_type": "code",
   "execution_count": 3,
   "metadata": {},
   "outputs": [],
   "source": [
    "import requests\n",
    "import os\n",
    "import re\n",
    "from collections import defaultdict\n",
    "import json"
   ]
  },
  {
   "cell_type": "code",
   "execution_count": 14,
   "metadata": {},
   "outputs": [
    {
     "data": {
      "text/plain": [
       "[('Indoor Dust, Dander', 932, '#AA4239'),\n",
       " ('Trees', 600, '#D6A232'),\n",
       " ('Grasses', 352, '#9AA22B'),\n",
       " ('Oak', 267, '#9AA22B'),\n",
       " ('Molds', 190, '#006A92'),\n",
       " ('Air Quality', 125, '#006A92'),\n",
       " ('Ragweed', 100, '#795088')]"
      ]
     },
     "execution_count": 14,
     "metadata": {},
     "output_type": "execute_result"
    }
   ],
   "source": [
    "def find_json_text(text):\n",
    "    started = False\n",
    "    bracket_counts = defaultdict(int)\n",
    "    for (i, c) in enumerate(text):\n",
    "        if not started and c in '()[]{}':\n",
    "            started = True\n",
    "        if started:\n",
    "            for bracket in [\n",
    "                {'open':'(', 'close':')', 'name':'parenthesis'},\n",
    "                {'open':'[', 'close':']', 'name':'parenthesis'},\n",
    "                {'open':'{', 'close':'}', 'name':'parenthesis'},\n",
    "            ]:\n",
    "                if c == bracket['open']:\n",
    "                    bracket_counts[bracket['name']] += 1\n",
    "                if c == bracket['close']:\n",
    "                    bracket_counts[bracket['name']] -= 1\n",
    "                    if bracket_counts[bracket['name']] < 0:\n",
    "                        raise Exception('Unexpected closing bracket')\n",
    "            if sum(bracket_counts.values()) == 0:\n",
    "                return text[:i]\n",
    "    return ''\n",
    "\n",
    "def parse_factor(text):\n",
    "    first_quote_idx = text.find(\"'\")\n",
    "    second_quote_idx = text[first_quote_idx+1:].find(\"'\") + first_quote_idx + 1\n",
    "    factor = text[first_quote_idx+1:second_quote_idx]\n",
    "    value = text[second_quote_idx+1:].split(',')[1]\n",
    "    fill_color = re.search('#[0-9A-F]*', text[text.find('fill-color'):]).group(0)\n",
    "    return factor, int(value), fill_color\n",
    "\n",
    "response_index = requests.get('https://austinpollen.com/')\n",
    "response_usualsuspects = requests.get('https://austinpollen.com/theusualsuspects.html')\n",
    "script_pattern = r'(?<=<script defer>)(.*)(?=</script>)'\n",
    "script_text_index = re.findall(script_pattern, response_index.text, flags=re.DOTALL)[0]\n",
    "script_text_usualsuspects = re.findall(script_pattern, response_usualsuspects.text, flags=re.DOTALL)[0]\n",
    "pattern_index = r'(?<=function drawChartindex\\(\\))(.*)(?<=arrayToDataTable\\()(.*)'\n",
    "pattern_usualsuspects = r'(?<=function drawCharttheusualsuspects\\(\\))(.*)(?<=arrayToDataTable\\()(.*)'\n",
    "text_index = find_json_text(re.findall(pattern_index, script_text_index, flags=re.DOTALL)[0][0]).split('\\n')\n",
    "text_usualsuspects = find_json_text(re.findall(pattern_usualsuspects, script_text_usualsuspects, flags=re.DOTALL)[0][0]).split('\\n')\n",
    "\n",
    "[parse_factor(x) for x in text_index[1:] if x.startswith('            [\\'Indoor Dust, Dander') and not x.startswith(\"            ['Factor'\")] + [parse_factor(x) for x in text_usualsuspects[1:] if x.startswith('            [') and not x.startswith(\"            ['Factor'\")]"
   ]
  },
  {
   "cell_type": "code",
   "execution_count": null,
   "metadata": {},
   "outputs": [],
   "source": []
  }
 ],
 "metadata": {
  "kernelspec": {
   "display_name": "Python 3",
   "language": "python",
   "name": "python3"
  },
  "language_info": {
   "codemirror_mode": {
    "name": "ipython",
    "version": 3
   },
   "file_extension": ".py",
   "mimetype": "text/x-python",
   "name": "python",
   "nbconvert_exporter": "python",
   "pygments_lexer": "ipython3",
   "version": "3.8.5"
  }
 },
 "nbformat": 4,
 "nbformat_minor": 4
}
