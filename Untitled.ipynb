{
 "cells": [
  {
   "cell_type": "code",
   "execution_count": 1,
   "metadata": {},
   "outputs": [],
   "source": [
    "import requests\n",
    "import os\n",
    "import re\n",
    "from collections import defaultdict\n",
    "import json"
   ]
  },
  {
   "cell_type": "code",
   "execution_count": 12,
   "metadata": {},
   "outputs": [
    {
     "data": {
      "text/plain": [
       "[('Indoor Dust, Dander', 662, '#C16937'),\n",
       " ('Oak', 544, '#D6A232'),\n",
       " ('Asthma Index', 514, '#D6A232'),\n",
       " ('Grasses', 402, '#9AA22B'),\n",
       " ('Graminales', 400, '#9AA22B'),\n",
       " ('Cedar', 370, '#9AA22B'),\n",
       " ('Birch', 327, '#9AA22B'),\n",
       " ('Trees', 325, '#9AA22B'),\n",
       " ('Poplar family', 287, '#9AA22B'),\n",
       " ('Pine', 282, '#9AA22B')]"
      ]
     },
     "execution_count": 12,
     "metadata": {},
     "output_type": "execute_result"
    }
   ],
   "source": [
    "def find_json_text(text):\n",
    "    started = False\n",
    "    bracket_counts = defaultdict(int)\n",
    "    for (i, c) in enumerate(text):\n",
    "        if not started and c in '()[]{}':\n",
    "            started = True\n",
    "        if started:\n",
    "            for bracket in [\n",
    "                {'open':'(', 'close':')', 'name':'parenthesis'},\n",
    "                {'open':'[', 'close':']', 'name':'parenthesis'},\n",
    "                {'open':'{', 'close':'}', 'name':'parenthesis'},\n",
    "            ]:\n",
    "                if c == bracket['open']:\n",
    "                    bracket_counts[bracket['name']] += 1\n",
    "                if c == bracket['close']:\n",
    "                    bracket_counts[bracket['name']] -= 1\n",
    "                    if bracket_counts[bracket['name']] < 0:\n",
    "                        raise Exception('Unexpected closing bracket')\n",
    "            if sum(bracket_counts.values()) == 0:\n",
    "                return text[:i]\n",
    "    return ''\n",
    "\n",
    "def parse_factor(text):\n",
    "    first_quote_idx = text.find(\"'\")\n",
    "    second_quote_idx = text[first_quote_idx+1:].find(\"'\") + first_quote_idx + 1\n",
    "    factor = text[first_quote_idx+1:second_quote_idx]\n",
    "    value = text[second_quote_idx+1:].split(',')[1]\n",
    "    fill_color = re.search('#[0-9A-F]*', text[text.find('fill-color'):]).group(0)\n",
    "    return factor, int(value), fill_color\n",
    "\n",
    "response = requests.get('https://austinpollen.com/')\n",
    "pattern = r'(?<=<script defer>)(.*)(?=</script>)'\n",
    "script_text = re.findall(pattern, response.text, flags=re.DOTALL)[0]\n",
    "pattern = r'(?<=function drawChartindex\\(\\))(.*)(?<=arrayToDataTable\\()(.*)'\n",
    "text = find_json_text(re.findall(pattern, script_text, flags=re.DOTALL)[0][0]).split('\\n')\n",
    "\n",
    "[parse_factor(x) for x in text[1:] if x.startswith('            [') and not x.startswith(\"            ['Factor'\")]"
   ]
  },
  {
   "cell_type": "code",
   "execution_count": null,
   "metadata": {},
   "outputs": [],
   "source": []
  }
 ],
 "metadata": {
  "kernelspec": {
   "display_name": "Python 3",
   "language": "python",
   "name": "python3"
  },
  "language_info": {
   "codemirror_mode": {
    "name": "ipython",
    "version": 3
   },
   "file_extension": ".py",
   "mimetype": "text/x-python",
   "name": "python",
   "nbconvert_exporter": "python",
   "pygments_lexer": "ipython3",
   "version": "3.8.5"
  }
 },
 "nbformat": 4,
 "nbformat_minor": 4
}
